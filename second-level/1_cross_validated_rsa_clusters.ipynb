{
 "cells": [
  {
   "cell_type": "markdown",
   "metadata": {},
   "source": [
    "# 1. Indentifying cross-validated feedback history RSA clusters\n",
    "\n",
    "## Goal\n",
    "\n",
    "Since we conducted feedback history RSA on the Discovery and Validation group separately, we first need to identify robust or \"cross-validated\" RSA clusters that encode feedback history model RDMs on both subgroups."
   ]
  },
  {
   "cell_type": "markdown",
   "metadata": {},
   "source": [
    "## Details"
   ]
  },
  {
   "cell_type": "code",
   "execution_count": 1,
   "metadata": {},
   "outputs": [],
   "source": [
    "# Imports\n",
    "import os\n",
    "import shutil\n",
    "from pathlib import Path\n",
    "from typing import Literal\n",
    "\n",
    "from nipype.interfaces import afni"
   ]
  },
  {
   "cell_type": "code",
   "execution_count": 2,
   "metadata": {},
   "outputs": [],
   "source": [
    "# Data paths\n",
    "discovery_first_level_output_path = Path(\n",
    "    \"[path-to-discovery-bids-dataset]/derivatives/first-level/\"  # Please update accordingly\n",
    ")\n",
    "validation_first_level_output_path = Path(\n",
    "    \"[path-to-validation-bids-dataset]/derivatives/first-level\"  # Please update accordingly\n",
    ")\n",
    "\n",
    "# Set cluster output path with respect to the git root\n",
    "GIT_ROOT_LINES = !git rev-parse --show-toplevel\n",
    "GIT_ROOT = Path(GIT_ROOT_LINES[0])\n",
    "cluster_output_path = (\n",
    "    GIT_ROOT / \"second-level\" / \"output\" / \"cross_validated_cluster_mask\"\n",
    ")\n",
    "\n",
    "# Experimental specific constants\n",
    "SEARCHLIGHT_RADIUS = 3\n",
    "BLUR_KERNEL_WIDTH = 6"
   ]
  },
  {
   "cell_type": "code",
   "execution_count": 3,
   "metadata": {},
   "outputs": [],
   "source": [
    "# Function to identify the cross-validated RSA cluster mask for feedback history model (i.e., Recent-2 Trial or Recent-3 Trial)\n",
    "def identify_cross_validated_cluster_mask(\n",
    "    model: Literal[\"recent_2_trial\", \"recent_3_trial\"],\n",
    "    discovery_path=discovery_first_level_output_path,\n",
    "    validation_path=validation_first_level_output_path,\n",
    "    output_path=cluster_output_path,\n",
    "):\n",
    "    # Initialize the model cluster output directory\n",
    "    model_output_path = output_path / model\n",
    "    os.makedirs(model_output_path, exist_ok=True)\n",
    "\n",
    "    # Copy each corrected cluster mask to the cluster output directory\n",
    "    cluster_mask_name = f\"feedback_rsa_ttest_{model}_rad{SEARCHLIGHT_RADIUS}_blur{BLUR_KERNEL_WIDTH}_cluster_mask.nii\"\n",
    "    discovery_cluster_mask_name = (\n",
    "        f\"discovery_{model}_cluster_mask.nii\"  # Rename due to the name duplication\n",
    "    )\n",
    "    discovery_cluster_mask_path = (\n",
    "        discovery_path\n",
    "        / \"stat\"\n",
    "        / \"multivariate\"\n",
    "        / \"feedback_model\"\n",
    "        / \"ttest\"\n",
    "        / model\n",
    "        / cluster_mask_name\n",
    "    )\n",
    "    assert discovery_cluster_mask_path.exists()\n",
    "    shutil.copy(\n",
    "        discovery_cluster_mask_path, model_output_path / discovery_cluster_mask_name\n",
    "    )\n",
    "\n",
    "    validation_cluster_mask_name = f\"validation_{model}_cluster_mask.nii\"\n",
    "    validation_cluster_mask_path = (\n",
    "        validation_path\n",
    "        / \"stat\"\n",
    "        / \"multivariate\"\n",
    "        / \"feedback_model\"\n",
    "        / \"ttest\"\n",
    "        / model\n",
    "        / cluster_mask_name\n",
    "    )\n",
    "    assert validation_cluster_mask_path.exists()\n",
    "    shutil.copy(\n",
    "        validation_cluster_mask_path, model_output_path / validation_cluster_mask_name\n",
    "    )\n",
    "\n",
    "    # Overlap two cluster mask using 3dcalc\n",
    "    cross_validated_mask_name = f\"{model}_cross_validated_cluster_mask.nii\"\n",
    "    os.chdir(model_output_path)\n",
    "    calc = afni.Calc()\n",
    "    calc.inputs.in_file_a = discovery_cluster_mask_name\n",
    "    calc.inputs.in_file_b = validation_cluster_mask_name\n",
    "    calc.inputs.expr = \"and(a, b)\"\n",
    "    calc.inputs.out_file = cross_validated_mask_name\n",
    "    calc.inputs.args = \"-overwrite\"\n",
    "    calc.run()\n",
    "\n",
    "    # Clean-up copied masks\n",
    "    (model_output_path / discovery_cluster_mask_name).unlink(missing_ok=True)\n",
    "    (model_output_path / validation_cluster_mask_name).unlink(missing_ok=True)\n",
    "\n",
    "    # Return the cross-validated cluster mask\n",
    "    return model_output_path / cross_validated_mask_name"
   ]
  },
  {
   "cell_type": "code",
   "execution_count": 4,
   "metadata": {},
   "outputs": [
    {
     "name": "stdout",
     "output_type": "stream",
     "text": [
      "240904-18:27:36,426 nipype.interface INFO:\n",
      "\t stderr 2024-09-04T18:27:36.426050:++ 3dcalc: AFNI version=AFNI_24.1.19 (Jun 14 2024) [64-bit]\n",
      "240904-18:27:36,427 nipype.interface INFO:\n",
      "\t stderr 2024-09-04T18:27:36.427263:++ Authored by: A cast of thousands\n",
      "240904-18:27:36,472 nipype.interface INFO:\n",
      "\t stderr 2024-09-04T18:27:36.472917:++ Output dataset ./recent_2_trial_cross_validated_cluster_mask.nii\n"
     ]
    }
   ],
   "source": [
    "# Recent-2 Trial cross-validated cluster mask\n",
    "recent_2_trial_cross_validated_cluster_mask_path = (\n",
    "    identify_cross_validated_cluster_mask(model=\"recent_2_trial\")\n",
    ")"
   ]
  },
  {
   "cell_type": "code",
   "execution_count": 5,
   "metadata": {},
   "outputs": [
    {
     "name": "stdout",
     "output_type": "stream",
     "text": [
      "240904-18:27:36,538 nipype.interface INFO:\n",
      "\t stderr 2024-09-04T18:27:36.538696:++ 3dcalc: AFNI version=AFNI_24.1.19 (Jun 14 2024) [64-bit]\n",
      "240904-18:27:36,539 nipype.interface INFO:\n",
      "\t stderr 2024-09-04T18:27:36.538696:++ Authored by: A cast of thousands\n",
      "240904-18:27:36,578 nipype.interface INFO:\n",
      "\t stderr 2024-09-04T18:27:36.578450:++ Output dataset ./recent_3_trial_cross_validated_cluster_mask.nii\n"
     ]
    }
   ],
   "source": [
    "# Recent-3 Trial cross-validated cluster mask\n",
    "recent_3_trial_cross_validated_cluster_mask_path = (\n",
    "    identify_cross_validated_cluster_mask(model=\"recent_3_trial\")\n",
    ")"
   ]
  },
  {
   "cell_type": "code",
   "execution_count": 6,
   "metadata": {},
   "outputs": [
    {
     "name": "stdout",
     "output_type": "stream",
     "text": [
      "240904-18:27:36,695 nipype.interface INFO:\n",
      "\t stderr 2024-09-04T18:27:36.695633:++ 3dcalc: AFNI version=AFNI_24.1.19 (Jun 14 2024) [64-bit]\n",
      "240904-18:27:36,696 nipype.interface INFO:\n",
      "\t stderr 2024-09-04T18:27:36.695633:++ Authored by: A cast of thousands\n",
      "240904-18:27:36,737 nipype.interface INFO:\n",
      "\t stderr 2024-09-04T18:27:36.737777:++ Output dataset ./recent_2_recent_3_trial_overlap_cluster_mask.nii\n"
     ]
    }
   ],
   "source": [
    "# Compute feedback history cluster mask (i.e., Recent-2 Trial cross-validated mask & Recent-3 Trial cross-validated mask)\n",
    "recent_2_recent_3_overlap_output_path = (\n",
    "    cluster_output_path / \"recent_2_and_recent_3_trial\"\n",
    ")\n",
    "os.makedirs(recent_2_recent_3_overlap_output_path, exist_ok=True)\n",
    "\n",
    "# Copy each cross-validated mask\n",
    "recent_2_mask_name = recent_2_trial_cross_validated_cluster_mask_path.name\n",
    "recent_3_mask_name = recent_3_trial_cross_validated_cluster_mask_path.name\n",
    "shutil.copy(\n",
    "    recent_2_trial_cross_validated_cluster_mask_path,\n",
    "    recent_2_recent_3_overlap_output_path,\n",
    ")\n",
    "shutil.copy(\n",
    "    recent_3_trial_cross_validated_cluster_mask_path,\n",
    "    recent_2_recent_3_overlap_output_path,\n",
    ")\n",
    "\n",
    "# Overlap two cluster mask using 3dcalc\n",
    "recent_2_recent_3_overlap_mask_name = \"recent_2_recent_3_trial_overlap_cluster_mask.nii\"\n",
    "os.chdir(recent_2_recent_3_overlap_output_path)\n",
    "calc = afni.Calc()\n",
    "calc.inputs.in_file_a = recent_2_mask_name\n",
    "calc.inputs.in_file_b = recent_3_mask_name\n",
    "calc.inputs.expr = \"and(a, b)\"\n",
    "calc.inputs.out_file = recent_2_recent_3_overlap_mask_name\n",
    "calc.inputs.args = \"-overwrite\"\n",
    "calc.run()\n",
    "\n",
    "# Clean-up copied masks\n",
    "(recent_2_recent_3_overlap_output_path / recent_2_mask_name).unlink(missing_ok=True)\n",
    "(recent_2_recent_3_overlap_output_path / recent_3_mask_name).unlink(missing_ok=True)"
   ]
  },
  {
   "cell_type": "markdown",
   "metadata": {},
   "source": [
    "## Notes\n",
    "\n",
    "- For each cross-validated or overlapped cluster mask (e.g., `recent_3_trial_cross_validated_cluster_mask.nii`), we identified clusters whose cluster extents are equal or greater than 20 voxels. Please check the cluster mask file(s) with the `_vox20` suffix in the `second-level/output/cross_validated_cluster_mask/` directory.\n",
    "    - For the Recent-2 Trial model, all cross-validated clusters were over 20 voxels. So no `*_vox20.nii` file in the directory.\n",
    "\n",
    "- For the Recent-2 Trial & Recent-3 Trial cluster mask, we named the identified clusters as **feedback history clusters**, which encode both feedback history models. We used these cluster masks in the second-level RSA. Please check our **middle orbital gyrus (MiOG)** and **inferior frontal gyrus (IFG)** cluster masks in the directory."
   ]
  }
 ],
 "metadata": {
  "kernelspec": {
   "display_name": ".venv",
   "language": "python",
   "name": "python3"
  },
  "language_info": {
   "codemirror_mode": {
    "name": "ipython",
    "version": 3
   },
   "file_extension": ".py",
   "mimetype": "text/x-python",
   "name": "python",
   "nbconvert_exporter": "python",
   "pygments_lexer": "ipython3",
   "version": "3.10.8"
  }
 },
 "nbformat": 4,
 "nbformat_minor": 2
}
